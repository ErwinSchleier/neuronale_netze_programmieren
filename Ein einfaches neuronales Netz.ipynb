{
 "cells": [
  {
   "cell_type": "markdown",
   "metadata": {},
   "source": [
    "# Ein einfaches neuronales Netz"
   ]
  },
  {
   "cell_type": "markdown",
   "metadata": {},
   "source": [
    "Eine Hinführungen zum Aufbau und Umsetzung eines Perceptron, welches die einfachste und verständlichste Form eines Künstlichen Neuronalen Netzes (KNN) ist. Dabei wird mit einfachen Funktionen in der Python-Notation sowie der Daten-Visualisierungsbibliothek Matplotlib begonnen."
   ]
  },
  {
   "cell_type": "markdown",
   "metadata": {},
   "source": [
    "## Die Entscheidung"
   ]
  },
  {
   "cell_type": "code",
   "execution_count": 49,
   "metadata": {},
   "outputs": [
    {
     "name": "stdout",
     "output_type": "stream",
     "text": [
      "1\n"
     ]
    }
   ],
   "source": [
    "def entscheidung(summe):\n",
    "    \"\"\"\"Berechnung der Entscheidung zum Wert summ\n",
    "        Input: summe\n",
    "        Output: 1, falls summe >= 1,\n",
    "                0 sonst\n",
    "    \"\"\"\n",
    "    if summe >= 1:\n",
    "        return 1\n",
    "    else:\n",
    "        return 0\n",
    "\n",
    "ergebnis = entscheidung(1)\n",
    "print(ergebnis)"
   ]
  },
  {
   "cell_type": "code",
   "execution_count": 50,
   "metadata": {},
   "outputs": [
    {
     "name": "stdout",
     "output_type": "stream",
     "text": [
      "\"Berechnung der Entscheidung zum Wert summ\n",
      "        Input: summe\n",
      "        Output: 1, falls summe >= 1,\n",
      "                0 sonst\n",
      "    \n"
     ]
    }
   ],
   "source": [
    "print(entscheidung.__doc__)"
   ]
  },
  {
   "cell_type": "markdown",
   "metadata": {},
   "source": [
    "## Stufenfunktion"
   ]
  },
  {
   "cell_type": "code",
   "execution_count": 51,
   "metadata": {},
   "outputs": [
    {
     "data": {
      "image/png": "[encoded data removed]",
      "text/plain": [
       "<Figure size 432x288 with 1 Axes>"
      ]
     },
     "metadata": {
      "needs_background": "light"
     },
     "output_type": "display_data"
    }
   ],
   "source": [
    "import matplotlib.pyplot as plt\n",
    "%matplotlib inline\n",
    "\n",
    "x = [-1,0,0.999,1,2]\n",
    "y = [ entscheidung(i) for i in x]\n",
    "# Graphen erzeugen, mit einer blauen Stufe und Bezeichnung step\n",
    "plt.step(x, y, '-b', label='step')\n",
    "\n",
    "# Achsen setzen\n",
    "plt.grid(True)\n",
    "# horizontale und vertikale 0-Achse etwas dicker in Schwarz zeichnen\n",
    "plt.axhline(0, color='black', lw=1)\n",
    "plt.axvline(0, color='black', lw=1)\n",
    "\n",
    "# Achsenbeschriftung und -titel\n",
    "plt.xlabel('Summe')\n",
    "plt.ylabel('Ergebnis')\n",
    "plt.title('Stufenfunktion')\n",
    "\n",
    "# Legenden PLatzierung festlegen\n",
    "plt.legend(loc='lower right')\n",
    "\n",
    "plt.show()"
   ]
  },
  {
   "cell_type": "markdown",
   "metadata": {},
   "source": [
    "## Scatter-Plot"
   ]
  },
  {
   "cell_type": "code",
   "execution_count": 44,
   "metadata": {},
   "outputs": [],
   "source": [
    "import matplotlib.pyplot as plt\n",
    "%matplotlib inline\n",
    "\n",
    "import numpy as np"
   ]
  },
  {
   "cell_type": "code",
   "execution_count": 45,
   "metadata": {},
   "outputs": [
    {
     "data": {
      "text/plain": [
       "{'Iris-setosa': 'red', 'Iris-versicolor': 'green', 'Iris-virginica': 'blue'}"
      ]
     },
     "execution_count": 45,
     "metadata": {},
     "output_type": "execute_result"
    }
   ],
   "source": [
    "iris_colors"
   ]
  },
  {
   "cell_type": "code",
   "execution_count": 46,
   "metadata": {},
   "outputs": [
    {
     "name": "stdout",
     "output_type": "stream",
     "text": [
      "Der Vektor x1:  [0 0 1 1]\n"
     ]
    }
   ],
   "source": [
    "# x-Koordinaten\n",
    "x1 = np.array([0, 0, 1, 1])\n",
    "# y-Koordinaten\n",
    "x2 = np.array([0, 1, 0, 1])\n",
    "# Farben für die Punkte\n",
    "color = np.array(['black', 'black', 'red', 'black'])\n",
    "# Punktgröße\n",
    "size = np.array([100, 100, 500, 100])\n",
    "\n",
    "\n",
    "print('Der Vektor x1: ', x1)"
   ]
  },
  {
   "cell_type": "code",
   "execution_count": 47,
   "metadata": {},
   "outputs": [
    {
     "data": {
      "image/png": "[encoded data removed]",
      "text/plain": [
       "<Figure size 432x288 with 1 Axes>"
      ]
     },
     "metadata": {
      "needs_background": "light"
     },
     "output_type": "display_data"
    }
   ],
   "source": [
    "plt.grid(True)\n",
    "plt.scatter(x1, x2, c=color, s=size)\n",
    "\n",
    "# Achsen setzen\n",
    "plt.xlabel('x1')\n",
    "plt.ylabel('x2')\n",
    "\n",
    "# Achseneinteilungen setzen\n",
    "plt.xticks([0.0, 1.0])\n",
    "plt.yticks([0.0, 1.0])\n",
    "\n",
    "plt.show()"
   ]
  },
  {
   "cell_type": "markdown",
   "metadata": {},
   "source": [
    "## Iris-Datensatz Scatter-Plot"
   ]
  },
  {
   "cell_type": "code",
   "execution_count": 3,
   "metadata": {},
   "outputs": [],
   "source": [
    "import matplotlib.pyplot as plt\n",
    "%matplotlib inline\n",
    "\n",
    "import numpy as np"
   ]
  },
  {
   "cell_type": "code",
   "execution_count": 11,
   "metadata": {},
   "outputs": [],
   "source": [
    "fobj = open(\"iris.csv\", \"r\")\n",
    "x1 = []\n",
    "x2 = []\n",
    "colors = []\n",
    "\n",
    "iris_colors = {\n",
    "    'Iris-setosa' : 'red',\n",
    "    'Iris-versicolor' : 'green',\n",
    "    'Iris-virginica' : 'blue'\n",
    "}"
   ]
  },
  {
   "cell_type": "code",
   "execution_count": 12,
   "metadata": {},
   "outputs": [],
   "source": [
    "for line in fobj:\n",
    "    words = line.rstrip().split(\",\")\n",
    "    # Leerzeilen auslassen\n",
    "    if len(words) != 5:\n",
    "        continue\n",
    "    x1.append(float(words[0]))\n",
    "    x2.append(float(words[1]))\n",
    "    colors.append(iris_colors[words[4]])\n",
    "fobj.close()"
   ]
  },
  {
   "cell_type": "code",
   "execution_count": 15,
   "metadata": {},
   "outputs": [
    {
     "data": {
      "text/plain": [
       "<matplotlib.collections.PathCollection at 0x22cd13c6c50>"
      ]
     },
     "execution_count": 15,
     "metadata": {},
     "output_type": "execute_result"
    },
    {
     "data": {
      "image/png": "[encoded data removed]",
      "text/plain": [
       "<Figure size 432x288 with 1 Axes>"
      ]
     },
     "metadata": {},
     "output_type": "display_data"
    }
   ],
   "source": [
    "plt.style.use('seaborn-whitegrid')\n",
    "plt.xlabel('Sepal Length')\n",
    "plt.ylabel('Sepal Width')\n",
    "plt.title('Scatter Plot')\n",
    "\n",
    "plt.scatter(np.array(x1), np.array(x2), color=colors)"
   ]
  },
  {
   "cell_type": "markdown",
   "metadata": {},
   "source": [
    "## Ermittlunjg des Skalarprodukts mit Hilfe von NumPy"
   ]
  },
  {
   "cell_type": "markdown",
   "metadata": {},
   "source": [
    "Das Skalarprodukt ist die Summer der multiplizierten Vektroen<br/>\n",
    "w1 * x1 + w2 * x2 + ... + wn * xn"
   ]
  },
  {
   "cell_type": "code",
   "execution_count": 22,
   "metadata": {},
   "outputs": [
    {
     "name": "stdout",
     "output_type": "stream",
     "text": [
      "x = [0 1 2]\n",
      "w = [0.5 0.7 0.8]\n",
      "w*x = [0.  0.7 1.6]\n",
      "np.dot(w,x) = 2.3\n",
      "w.dot(x) = 2.3\n"
     ]
    }
   ],
   "source": [
    "import numpy as np\n",
    "\n",
    "x = np.array([0, 1, 2])\n",
    "w = np.array([0.5, 0.7, 0.8])\n",
    "\n",
    "print(\"x =\", x)\n",
    "print(\"w =\", w)\n",
    "print(\"w*x =\", w*x)\n",
    "print(\"np.dot(w,x) =\", np.dot(w,x))\n",
    "print(\"w.dot(x) =\", w.dot(x))"
   ]
  },
  {
   "cell_type": "code",
   "execution_count": 39,
   "metadata": {},
   "outputs": [],
   "source": [
    "import matplotlib.pyplot as plt\n",
    "import numpy as np\n",
    "\n",
    "# 3-dimensionaler Input = Basis-Neuron, Wert1, Wert2\n",
    "X = np.array([\n",
    "    [1,0,0],\n",
    "    [1,0,1],\n",
    "    [1,1,0],\n",
    "    [1,1,1]\n",
    "])\n",
    "# 4 gewünschten Ergebniswerte\n",
    "y = np.array([0,1,1,1])"
   ]
  },
  {
   "cell_type": "code",
   "execution_count": 40,
   "metadata": {},
   "outputs": [],
   "source": [
    "def heaviside(summe):\n",
    "    \"\"\"Berechnung der Entscheidung zum Wert summe\n",
    "        Input: summe\n",
    "        Output: 1, falls summe >= 0,\n",
    "                0, sonst\n",
    "    \"\"\"\n",
    "    if summe >= 0:\n",
    "        return 1\n",
    "    else:\n",
    "        return 0"
   ]
  },
  {
   "cell_type": "code",
   "execution_count": 41,
   "metadata": {},
   "outputs": [],
   "source": [
    "def perceptron_eval(X, y):\n",
    "    gesamtfehler = 0\n",
    "    w = np.array([-1,1,1])\n",
    "    for i,x in enumerate(X):\n",
    "        summe = np.dot(w,x)\n",
    "        ergebnis = heaviside(summe)\n",
    "        fehler = np.abs(ergebnis - y[i])\n",
    "        gesamtfehler += fehler\n",
    "        print(\"Fr. Karotte = {}, Hr. Lauch = {}, Ergebnis = {}, Fehler = {}\".format(x[1],x[2], y[i], fehler))\n",
    "    return gesamtfehler"
   ]
  },
  {
   "cell_type": "code",
   "execution_count": 42,
   "metadata": {},
   "outputs": [
    {
     "name": "stdout",
     "output_type": "stream",
     "text": [
      "Fr. Karotte = 0, Hr. Lauch = 0, Ergebnis = 0, Fehler = 0\n",
      "Fr. Karotte = 0, Hr. Lauch = 1, Ergebnis = 1, Fehler = 0\n",
      "Fr. Karotte = 1, Hr. Lauch = 0, Ergebnis = 1, Fehler = 0\n",
      "Fr. Karotte = 1, Hr. Lauch = 1, Ergebnis = 1, Fehler = 0\n",
      "Gesamtfehler = 0\n"
     ]
    }
   ],
   "source": [
    "gesamtfehler = perceptron_eval(X,y)\n",
    "print(\"Gesamtfehler = %1d\" % (gesamtfehler))"
   ]
  }
 ],
 "metadata": {
  "kernelspec": {
   "display_name": "Python 3",
   "language": "python",
   "name": "python3"
  },
  "language_info": {
   "codemirror_mode": {
    "name": "ipython",
    "version": 3
   },
   "file_extension": ".py",
   "mimetype": "text/x-python",
   "name": "python",
   "nbconvert_exporter": "python",
   "pygments_lexer": "ipython3",
   "version": "3.7.3"
  },
  "toc": {
   "base_numbering": 1,
   "nav_menu": {},
   "number_sections": true,
   "sideBar": true,
   "skip_h1_title": false,
   "title_cell": "Table of Contents",
   "title_sidebar": "Contents",
   "toc_cell": false,
   "toc_position": {},
   "toc_section_display": true,
   "toc_window_display": true
  },
  "varInspector": {
   "cols": {
    "lenName": 16,
    "lenType": 16,
    "lenVar": 40
   },
   "kernels_config": {
    "python": {
     "delete_cmd_postfix": "",
     "delete_cmd_prefix": "del ",
     "library": "var_list.py",
     "varRefreshCmd": "print(var_dic_list())"
    },
    "r": {
     "delete_cmd_postfix": ") ",
     "delete_cmd_prefix": "rm(",
     "library": "var_list.r",
     "varRefreshCmd": "cat(var_dic_list()) "
    }
   },
   "oldHeight": 419.85,
   "position": {
    "height": "40px",
    "left": "1416px",
    "right": "20px",
    "top": "120px",
    "width": "484px"
   },
   "types_to_exclude": [
    "module",
    "function",
    "builtin_function_or_method",
    "instance",
    "_Feature"
   ],
   "varInspector_section_display": "none",
   "window_display": true
  }
 },
 "nbformat": 4,
 "nbformat_minor": 2
}
